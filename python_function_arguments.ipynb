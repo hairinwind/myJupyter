{
 "cells": [
  {
   "cell_type": "code",
   "execution_count": 1,
   "metadata": {},
   "outputs": [],
   "source": [
    "def student(firstname, lastname ='Mark', standard ='Fifth'): \n",
    "     print(firstname, lastname, 'studies in', standard, 'Standard') "
   ]
  },
  {
   "cell_type": "code",
   "execution_count": 2,
   "metadata": {},
   "outputs": [
    {
     "name": "stdout",
     "output_type": "stream",
     "text": [
      "tom Mark studies in Fifth Standard\n"
     ]
    }
   ],
   "source": [
    "student('tom')"
   ]
  },
  {
   "cell_type": "code",
   "execution_count": 4,
   "metadata": {},
   "outputs": [
    {
     "name": "stdout",
     "output_type": "stream",
     "text": [
      "tom mark studies in 4th Standard\n"
     ]
    }
   ],
   "source": [
    "student('tom', 'mark', '4th')"
   ]
  },
  {
   "cell_type": "code",
   "execution_count": 5,
   "metadata": {},
   "outputs": [
    {
     "name": "stdout",
     "output_type": "stream",
     "text": [
      "tom Mark studies in 4th Standard\n"
     ]
    }
   ],
   "source": [
    "student('tom', standard='4th')"
   ]
  },
  {
   "cell_type": "code",
   "execution_count": 7,
   "metadata": {},
   "outputs": [
    {
     "name": "stdout",
     "output_type": "stream",
     "text": [
      "tom white studies in 4th Standard\n"
     ]
    }
   ],
   "source": [
    "student('tom', standard='4th', lastname='white')"
   ]
  },
  {
   "cell_type": "code",
   "execution_count": 8,
   "metadata": {},
   "outputs": [],
   "source": [
    "def studentMark(firstname, lastname='Mark', *args):\n",
    "    print(firstname, lastname)\n",
    "    print(sum(args))"
   ]
  },
  {
   "cell_type": "code",
   "execution_count": 10,
   "metadata": {},
   "outputs": [
    {
     "name": "stdout",
     "output_type": "stream",
     "text": [
      "tom white\n",
      "10\n"
     ]
    }
   ],
   "source": [
    "studentMark('tom', 'white', 1,2,3,4)"
   ]
  },
  {
   "cell_type": "code",
   "execution_count": 26,
   "metadata": {},
   "outputs": [],
   "source": [
    "def studentMark(firstname, lastname='Mark', *args, **kwargs):\n",
    "    print(firstname, lastname)\n",
    "    print('sum', sum(args))\n",
    "    for arg in args:\n",
    "        print('*args', arg)\n",
    "        \n",
    "    for key, value in kwargs.items():\n",
    "        print(key, value)\n",
    "    print(type(kwargs))"
   ]
  },
  {
   "cell_type": "code",
   "execution_count": 27,
   "metadata": {},
   "outputs": [
    {
     "name": "stdout",
     "output_type": "stream",
     "text": [
      "tom white\n",
      "sum 10\n",
      "*args 1\n",
      "*args 2\n",
      "*args 3\n",
      "*args 4\n",
      "arg1 1\n",
      "arg2 2\n",
      "<class 'dict'>\n"
     ]
    }
   ],
   "source": [
    "studentMark('tom', 'white', 1,2,3,4, arg1=1, arg2=2)"
   ]
  },
  {
   "cell_type": "code",
   "execution_count": 22,
   "metadata": {},
   "outputs": [
    {
     "ename": "SyntaxError",
     "evalue": "positional argument follows keyword argument (<ipython-input-22-be52fd9736bf>, line 4)",
     "output_type": "error",
     "traceback": [
      "\u001b[1;36m  File \u001b[1;32m\"<ipython-input-22-be52fd9736bf>\"\u001b[1;36m, line \u001b[1;32m4\u001b[0m\n\u001b[1;33m    studentMark('tom', lastname='white', 1,2,3,4, arg1=1, arg2=2)\u001b[0m\n\u001b[1;37m                                        ^\u001b[0m\n\u001b[1;31mSyntaxError\u001b[0m\u001b[1;31m:\u001b[0m positional argument follows keyword argument\n"
     ]
    }
   ],
   "source": [
    "# this is not allowed\n",
    "# if *args and **kwargs declared in function, key/value argument has to appear after normal argumentsin \n",
    "# in this example, the normal arguments are 1,2,3, 4 \n",
    "studentMark('tom', lastname='white', 1,2,3,4, arg1=1, arg2=2)"
   ]
  },
  {
   "cell_type": "code",
   "execution_count": 23,
   "metadata": {},
   "outputs": [
    {
     "ename": "TypeError",
     "evalue": "studentMark() got multiple values for argument 'lastname'",
     "output_type": "error",
     "traceback": [
      "\u001b[1;31m---------------------------------------------------------------------------\u001b[0m",
      "\u001b[1;31mTypeError\u001b[0m                                 Traceback (most recent call last)",
      "\u001b[1;32m<ipython-input-23-9b4185ccd1be>\u001b[0m in \u001b[0;36m<module>\u001b[1;34m\u001b[0m\n\u001b[0;32m      1\u001b[0m \u001b[1;31m# this is not allowed, either\u001b[0m\u001b[1;33m\u001b[0m\u001b[1;33m\u001b[0m\u001b[0m\n\u001b[0;32m      2\u001b[0m \u001b[1;31m# it is not a good practice to use argument with default value with **kvargs\u001b[0m\u001b[1;33m\u001b[0m\u001b[1;33m\u001b[0m\u001b[0m\n\u001b[1;32m----> 3\u001b[1;33m \u001b[0mstudentMark\u001b[0m\u001b[1;33m(\u001b[0m\u001b[1;34m'tom'\u001b[0m\u001b[1;33m,\u001b[0m \u001b[1;36m1\u001b[0m\u001b[1;33m,\u001b[0m\u001b[1;36m2\u001b[0m\u001b[1;33m,\u001b[0m\u001b[1;36m3\u001b[0m\u001b[1;33m,\u001b[0m\u001b[1;36m4\u001b[0m\u001b[1;33m,\u001b[0m \u001b[0mlastname\u001b[0m\u001b[1;33m=\u001b[0m\u001b[1;34m'white'\u001b[0m\u001b[1;33m,\u001b[0m \u001b[0marg1\u001b[0m\u001b[1;33m=\u001b[0m\u001b[1;36m1\u001b[0m\u001b[1;33m,\u001b[0m \u001b[0marg2\u001b[0m\u001b[1;33m=\u001b[0m\u001b[1;36m2\u001b[0m\u001b[1;33m)\u001b[0m\u001b[1;33m\u001b[0m\u001b[0m\n\u001b[0m",
      "\u001b[1;31mTypeError\u001b[0m: studentMark() got multiple values for argument 'lastname'"
     ]
    }
   ],
   "source": [
    "# this is not allowed, either\n",
    "# it is not a good practice to use argument with default value with **kvargs\n",
    "studentMark('tom', 1,2,3,4, lastname='white', arg1=1, arg2=2)"
   ]
  },
  {
   "cell_type": "markdown",
   "metadata": {},
   "source": [
    "# example online\n",
    "https://stackoverflow.com/questions/15301999/default-arguments-with-args-and-kwargs\n",
    "\n",
    "foo(x) # a=x, b=3, args=(), kwargs={}  \n",
    "foo(x, y) # a=x, b=y, args=(), kwargs={}  \n",
    "foo(x, b=y) # a=x, b=y, args=(), kwargs={}  \n",
    "foo(x, y, z, k) # a=x, b=y, args=(z, k), kwargs={}  \n",
    "foo(x, c=y, d=k) # a=x, b=3, args=(), kwargs={'c': y, 'd': k}  \n",
    "foo(x, c=y, b=z, d=k) # a=x, b=z, args=(), kwargs={'c': y, 'd': k}  "
   ]
  },
  {
   "cell_type": "code",
   "execution_count": null,
   "metadata": {},
   "outputs": [],
   "source": []
  }
 ],
 "metadata": {
  "kernelspec": {
   "display_name": "Python 3",
   "language": "python",
   "name": "python3"
  },
  "language_info": {
   "codemirror_mode": {
    "name": "ipython",
    "version": 3
   },
   "file_extension": ".py",
   "mimetype": "text/x-python",
   "name": "python",
   "nbconvert_exporter": "python",
   "pygments_lexer": "ipython3",
   "version": "3.6.3"
  }
 },
 "nbformat": 4,
 "nbformat_minor": 2
}
