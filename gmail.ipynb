{
 "cells": [
  {
   "cell_type": "code",
   "execution_count": 31,
   "metadata": {},
   "outputs": [],
   "source": [
    "import smtplib\n",
    "from email.mime.multipart import MIMEMultipart\n",
    "from email.mime.text import MIMEText\n",
    "from email.mime.base import MIMEBase\n",
    "from email.utils import COMMASPACE,formatdate\n",
    "from email import encoders"
   ]
  },
  {
   "cell_type": "code",
   "execution_count": 32,
   "metadata": {},
   "outputs": [
    {
     "data": {
      "text/plain": [
       "(235, b'2.7.0 Accepted')"
      ]
     },
     "execution_count": 32,
     "metadata": {},
     "output_type": "execute_result"
    }
   ],
   "source": [
    "gmail_user = 'yaoappemail@gmail.com'  \n",
    "gmail_password = 'Compliance1'\n",
    "\n",
    "server = smtplib.SMTP_SSL('smtp.gmail.com', 465)\n",
    "server.ehlo()\n",
    "server.login(gmail_user, gmail_password)"
   ]
  },
  {
   "cell_type": "code",
   "execution_count": 33,
   "metadata": {},
   "outputs": [],
   "source": [
    "sent_from = gmail_user  \n",
    "to = ['yaoappemail@gmail.com']  \n",
    "subject = '5 minutes data'  \n",
    "message = 'Subject: {}\\n\\n{}'.format(subject, '')"
   ]
  },
  {
   "cell_type": "code",
   "execution_count": 34,
   "metadata": {},
   "outputs": [],
   "source": [
    "msg = MIMEMultipart()\n",
    "msg['From'] = 'yaoappemail@gmail.com'\n",
    "msg['To'] = 'yaoappemail@gmail.com'\n",
    "msg['Subject'] = subject\n",
    "msg.attach(MIMEText(''))\n",
    "\n",
    "att = MIMEBase('application', 'octet-stream') \n",
    "att.set_payload(open('symbol.txt', 'rb').read())\n",
    "encoders.encode_base64(att)\n",
    "att.add_header('Content-Disposition', 'attachment; filename=\"symbol.txt\"')\n",
    "msg.attach(att)"
   ]
  },
  {
   "cell_type": "code",
   "execution_count": 35,
   "metadata": {},
   "outputs": [
    {
     "name": "stdout",
     "output_type": "stream",
     "text": [
      "Email sent!\n"
     ]
    }
   ],
   "source": [
    "server.sendmail(sent_from, to, msg.as_string())\n",
    "server.close()\n",
    "\n",
    "print('Email sent!')"
   ]
  },
  {
   "cell_type": "code",
   "execution_count": null,
   "metadata": {},
   "outputs": [],
   "source": []
  }
 ],
 "metadata": {
  "kernelspec": {
   "display_name": "Python 3",
   "language": "python",
   "name": "python3"
  },
  "language_info": {
   "codemirror_mode": {
    "name": "ipython",
    "version": 3
   },
   "file_extension": ".py",
   "mimetype": "text/x-python",
   "name": "python",
   "nbconvert_exporter": "python",
   "pygments_lexer": "ipython3",
   "version": "3.6.3"
  }
 },
 "nbformat": 4,
 "nbformat_minor": 2
}
